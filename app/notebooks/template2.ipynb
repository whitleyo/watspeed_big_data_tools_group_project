{
 "cells": [
  {
   "cell_type": "markdown",
   "id": "2dfd15bb-c2f2-4dc4-a594-abdaf0e6e4c6",
   "metadata": {
    "editable": true,
    "slideshow": {
     "slide_type": ""
    },
    "tags": []
   },
   "source": [
    "# This is the second template\n",
    "\n",
    "This is a template for compiling under the query route"
   ]
  },
  {
   "cell_type": "code",
   "execution_count": null,
   "id": "ac673dce-93b3-41a3-8836-b896ebfe7688",
   "metadata": {
    "editable": true,
    "slideshow": {
     "slide_type": ""
    },
    "tags": [
     "parameters"
    ]
   },
   "outputs": [],
   "source": [
    "# This cell sets parameters, allows parameterization via papermill\n",
    "query = \"Some cool query text about science-y stuff\"\n",
    "top_n = 5"
   ]
  },
  {
   "cell_type": "code",
   "execution_count": null,
   "id": "55ab23d9-67ae-4ec3-9d40-ff710f3b0057",
   "metadata": {
    "editable": true,
    "slideshow": {
     "slide_type": ""
    },
    "tags": []
   },
   "outputs": [],
   "source": [
    "print(query)"
   ]
  },
  {
   "cell_type": "code",
   "execution_count": null,
   "id": "28126095",
   "metadata": {},
   "outputs": [],
   "source": [
    "print(type(query))"
   ]
  },
  {
   "cell_type": "code",
   "execution_count": null,
   "id": "03afa965-9b69-49f3-933b-ebaff47ef3a8",
   "metadata": {
    "editable": true,
    "slideshow": {
     "slide_type": ""
    },
    "tags": []
   },
   "outputs": [],
   "source": [
    "print(top_n)"
   ]
  },
  {
   "cell_type": "code",
   "execution_count": null,
   "id": "9ad5f01f",
   "metadata": {},
   "outputs": [],
   "source": [
    "print(type(top_n))"
   ]
  }
 ],
 "metadata": {
  "kernelspec": {
   "display_name": "watspeed_data_gr_proj",
   "language": "python",
   "name": "watspeed_data_gr_proj"
  },
  "language_info": {
   "codemirror_mode": {
    "name": "ipython",
    "version": 3
   },
   "file_extension": ".py",
   "mimetype": "text/x-python",
   "name": "python",
   "nbconvert_exporter": "python",
   "pygments_lexer": "ipython3",
   "version": "3.12.3"
  }
 },
 "nbformat": 4,
 "nbformat_minor": 5
}
